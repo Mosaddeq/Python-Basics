{
  "nbformat": 4,
  "nbformat_minor": 0,
  "metadata": {
    "colab": {
      "provenance": [],
      "authorship_tag": "ABX9TyOAvplrrHCUTwU3/FfUXGjy",
      "include_colab_link": true
    },
    "kernelspec": {
      "name": "python3",
      "display_name": "Python 3"
    },
    "language_info": {
      "name": "python"
    }
  },
  "cells": [
    {
      "cell_type": "markdown",
      "metadata": {
        "id": "view-in-github",
        "colab_type": "text"
      },
      "source": [
        "<a href=\"https://colab.research.google.com/github/Mosaddeq/Python-Basics/blob/main/Python_Basics_101.ipynb\" target=\"_parent\"><img src=\"https://colab.research.google.com/assets/colab-badge.svg\" alt=\"Open In Colab\"/></a>"
      ]
    },
    {
      "cell_type": "code",
      "execution_count": null,
      "metadata": {
        "id": "ViohII_fC4YE"
      },
      "outputs": [],
      "source": [
        "#Data type finding\n",
        "x = 5\n",
        "y = 6j\n",
        "print(type(x))\n",
        "print(type(str(x)))\n",
        "print(type(y))\n",
        "\n",
        "\n"
      ]
    },
    {
      "cell_type": "code",
      "source": [
        "# type casting\n",
        "x = 5\n",
        "print(x)\n",
        "print(type(x))\n",
        "print(float(x)) #int to float\n",
        "print(type(str(x))) #int to string"
      ],
      "metadata": {
        "id": "WOhypSa8E80O"
      },
      "execution_count": null,
      "outputs": []
    },
    {
      "cell_type": "code",
      "source": [
        "#STRINGS\n",
        "\n",
        "x = \"Hello\"\n",
        "print(x)\n",
        "y = '''asfadg dsg'''\n",
        "print(y)\n",
        "print(len(x)) # finding length\n",
        "\n",
        "#Slicing\n",
        "print(x[0:4]) # Slice upto but not including index 4 //index starts from 0\n",
        "\n",
        "#Looping through chars in String\n",
        "a = \"shadman\"\n",
        "for i in a:\n",
        "    print(i)\n",
        "\n",
        "#Check if String is present\n",
        "txt = \"  The best things in life are free!  \"\n",
        "print(\"free\" in txt)\n",
        "\n",
        "# same thing with if statement\n",
        "if \"zebra\" in txt:\n",
        "  print(\"Yes, 'zebra' is present.\")\n",
        "else:\n",
        "  print(\"No\")\n",
        "# check if-not\n",
        "if \"free\" not in txt:\n",
        "  print(\"no, 'free' is NOT present.\")\n",
        "else:\n",
        "  print(\"free is present\")\n",
        "\n",
        "#upper/lower conversion\n",
        "a = \"Hello, World!\"\n",
        "print(a.upper())\n",
        "print(a.lower())\n",
        "\n",
        "#Remove White Spaces python's Strip function()\n",
        "print(txt.strip())\n",
        "print(txt)\n",
        "\n",
        "#Replace a string\n",
        "print(txt.replace(\"free\", \"expensive\"))\n",
        "\n",
        "#Split() in String\n",
        "print(txt.split(\",\"))"
      ],
      "metadata": {
        "collapsed": true,
        "id": "u4o0BC7TGeYo"
      },
      "execution_count": null,
      "outputs": []
    },
    {
      "cell_type": "code",
      "source": [
        "#Split function with regular expression\n",
        "import re\n",
        "fruits = \"apple, orange; banana - mango/pineapple\"\n",
        "tokens =re.split('\\W+', fruits) #\\W is a special sequence in regular expressions that matches any non-word character.\n",
        "print(tokens)                   #+ is a quantifier that matches one or more occurrences of the preceding pattern \\W.\n",
        "\n",
        "#String Concatenation\n",
        "a = \"Hello\"\n",
        "b = \"World\"\n",
        "c = a + b\n",
        "d = a + \" \" + b\n",
        "print(c)\n",
        "print(d)\n",
        "\n",
        "#Concatanation + Type casting\n",
        "age = 36\n",
        "txt = \"My name is John, I am \" + str(age)\n",
        "print(txt)\n",
        "\n",
        "#String Formating (F-String)\n",
        "age = 36\n",
        "txt = f\"My name is John, I am {age}\"\n",
        "print(txt)\n",
        "\n",
        "price = 59\n",
        "txt = f\"The price is {price:.2f} dollars\" #A placeholder can include a modifier to format the value. included by adding a colon\n",
        "print(txt)                                #Can also do math operations\n",
        "\n",
        "# Escape Characters\n",
        "txt = \"We are the so-called \\\"Vikings\\\" from the north.\" # to use \"\" inside of \"\"\n",
        "\n",
        "#STRING METHODS\n",
        "x = txt.count(\"e\")\n",
        "y = txt.startswith(\"W\")\n",
        "z = txt.endswith(\"e\")\n",
        "print(x)\n",
        "print(y)\n",
        "print(z)\n",
        "\n",
        "# rjust()\tReturns a right justified version of the string\n",
        "# rpartition()\tReturns a tuple where the string is parted into three parts\n",
        "# title()\tConverts the first character of each word to upper case\n",
        "\n",
        "sentence = \"Mi casa, su casa.\"\n",
        "\n",
        "delta = sentence.rindex(\"casa\") # The rindex() method finds the last occurrence of the specified value.\n",
        "\n",
        "print(delta) # here last occur index = actual index -1"
      ],
      "metadata": {
        "id": "MEZY4xeiHHte"
      },
      "execution_count": null,
      "outputs": []
    },
    {
      "cell_type": "code",
      "source": [
        "#Booleans\n",
        "print(10 > 9)\n",
        "print(10 == 9)\n",
        "print(10 < 9)\n",
        "print(bool(\"Hello\"))\n",
        "print(bool(15))"
      ],
      "metadata": {
        "id": "NFoGZJGAlNDU"
      },
      "execution_count": null,
      "outputs": []
    },
    {
      "cell_type": "markdown",
      "source": [
        "***Python divides the operators in the following groups:***\n",
        "\n",
        "1.Arithmetic operators (+,-,/,* etc)\n",
        "\n",
        "2.Assignment operators (e.g  x += 3 means x = x + 3 )\n",
        "3.Comparison operators (<,>,!= {not equal to} etc)\n",
        "4.Logical operators (\"and\" Returns True if both statements are true\tx < 5 and  x < 10) (\"or\" Returns True if one of the statements is true\tx < 5 or x < 4)(\"not\"\tReverse the result, returns False if the result is true\tnot(x < 5 and x < 10))\n",
        "5.Identity operators (is , is not)\n",
        "6.Membership operators (in , not in)\n",
        "7.Bitwise operators (AND,OR, XOR) //Used tu compare binary numbers\n",
        "\n",
        "\n",
        "\n"
      ],
      "metadata": {
        "id": "Kp0dUvcAwbFh"
      }
    },
    {
      "cell_type": "code",
      "source": [
        "#Loops and conditions in Python\n",
        "\n",
        "#fOR LOOPS //for loops works as iterators in python rather conventional looping\n",
        "fruits = [\"apple\", \"banana\", \"cherry\"]\n",
        "for x in fruits:\n",
        "  #print(x[0:5]) #here last index of string = index+1\n",
        "                #means to print \"e\" in apple we need to go 0-5\n",
        "                #instead of there being 4 indices\n",
        "  print(x)      #will iterate through every element in list\n",
        "\n",
        "#for i in range(len(fruits)): #same result as printin x\n",
        "  #print(fruits[i])\n",
        "for i in fruits:\n",
        "  print(fruits[1]) # prints banana(at index 1) 3 times\n",
        "\n",
        "\n",
        "\n",
        "\n"
      ],
      "metadata": {
        "id": "NlmTl0k0wr_I"
      },
      "execution_count": null,
      "outputs": []
    },
    {
      "cell_type": "code",
      "source": [
        "#looping with conditions ad operators\n",
        "fruits = [\"apple\", \"banana\", \"cherry\"]\n",
        "\n",
        "# Flag to track if the second element has been printed\n",
        "printed_second_element = False\n",
        "\n",
        "for i in fruits:\n",
        "    if i == fruits[1] and not printed_second_element:\n",
        "        print(i)\n",
        "        printed_second_element = True\n",
        "        # Exit the loop after printing once (optional)\n",
        "        break"
      ],
      "metadata": {
        "colab": {
          "base_uri": "https://localhost:8080/"
        },
        "id": "O3O9uB30M_Qk",
        "outputId": "3be0ef1d-8bf5-4907-aef7-8792c867d322"
      },
      "execution_count": null,
      "outputs": [
        {
          "output_type": "stream",
          "name": "stdout",
          "text": [
            "banana\n"
          ]
        }
      ]
    },
    {
      "cell_type": "code",
      "source": [
        "#While loops // execute a set of statements as long as a condition is true\n",
        "i = 1\n",
        "while i < 6:\n",
        "  print(i)\n",
        "  i += 1 #this is for incrementation , without this line i<6 will always be true resulting in infinite loop\n"
      ],
      "metadata": {
        "colab": {
          "base_uri": "https://localhost:8080/"
        },
        "id": "1kEIKjZcK8Fm",
        "outputId": "2f08ef5e-8352-4b8f-8409-3e4849807a40"
      },
      "execution_count": null,
      "outputs": [
        {
          "output_type": "stream",
          "name": "stdout",
          "text": [
            "1\n",
            "2\n",
            "3\n",
            "4\n",
            "5\n"
          ]
        }
      ]
    },
    {
      "cell_type": "code",
      "source": [
        "#Range //print lol 6 times\n",
        "for x in range(6):\n",
        "  print(\"lol\")\n"
      ],
      "metadata": {
        "colab": {
          "base_uri": "https://localhost:8080/"
        },
        "id": "eqUSO1PuLAPC",
        "outputId": "0d376684-9d6d-4ace-ba10-90b9456575d4"
      },
      "execution_count": null,
      "outputs": [
        {
          "output_type": "stream",
          "name": "stdout",
          "text": [
            "lol\n",
            "lol\n",
            "lol\n",
            "lol\n",
            "lol\n",
            "lol\n"
          ]
        }
      ]
    },
    {
      "cell_type": "code",
      "source": [
        "#Break Statement to stop loop even if condt true\n",
        "j = 1\n",
        "while j < 6:\n",
        "  print(j)\n",
        "  if j == 3:\n",
        "    break\n",
        "  j += 1"
      ],
      "metadata": {
        "id": "CrYXZZizdm4e"
      },
      "execution_count": null,
      "outputs": []
    },
    {
      "cell_type": "code",
      "source": [
        "#Nested Loops\n",
        "adj = [\"red\", \"big\", \"tasty\"]\n",
        "fruits = [\"apple\", \"banana\", \"cherry\"]\n",
        "\n",
        "for x in adj:\n",
        "  for y in fruits:\n",
        "    print(x, y)"
      ],
      "metadata": {
        "id": "Y1CmYJh0IpY9"
      },
      "execution_count": null,
      "outputs": []
    },
    {
      "cell_type": "code",
      "source": [
        "adj = [\"red\", \"big\", \"tasty\"]\n",
        "fruits = [\"apple\", \"banana\", \"cherry\"]\n",
        "\n",
        "# Use the minimum length of the lists to avoid IndexError\n",
        "num_items = min(len(adj), len(fruits))  # Get the shorter list length\n",
        "\n",
        "for i in range(num_items):\n",
        "  print(adj[i], fruits[i]) #adj[i] accesses the element at index i in the adj list, and fruits[i] accesses the element at the same index i in the fruits list.\n",
        "\n",
        "#It will only print as many combinations as the shorter list has elements, ensuring you get the specific pairing you wanted.\n",
        "#Minimum Length: The num_items variable stores the shorter length of adj and fruits using min(len(adj), len(fruits)).\n",
        "#This ensures the loop iterates only as many times as the shorter list has elements to avoid IndexError if the lists have different lengths"
      ],
      "metadata": {
        "id": "vU-rVkQpIttO"
      },
      "execution_count": null,
      "outputs": []
    },
    {
      "cell_type": "code",
      "source": [],
      "metadata": {
        "id": "1LU7XhAiJ76j"
      },
      "execution_count": null,
      "outputs": []
    }
  ]
}