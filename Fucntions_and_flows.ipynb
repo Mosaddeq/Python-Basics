{
  "nbformat": 4,
  "nbformat_minor": 0,
  "metadata": {
    "colab": {
      "provenance": [],
      "authorship_tag": "ABX9TyMkw/s3h2ZXAzNfRKDI4413",
      "include_colab_link": true
    },
    "kernelspec": {
      "name": "python3",
      "display_name": "Python 3"
    },
    "language_info": {
      "name": "python"
    }
  },
  "cells": [
    {
      "cell_type": "markdown",
      "metadata": {
        "id": "view-in-github",
        "colab_type": "text"
      },
      "source": [
        "<a href=\"https://colab.research.google.com/github/Mosaddeq/Python-Basics/blob/main/Fucntions_and_flows.ipynb\" target=\"_parent\"><img src=\"https://colab.research.google.com/assets/colab-badge.svg\" alt=\"Open In Colab\"/></a>"
      ]
    },
    {
      "cell_type": "code",
      "execution_count": null,
      "metadata": {
        "colab": {
          "base_uri": "https://localhost:8080/"
        },
        "id": "82LJhJlV5iuD",
        "outputId": "2b0200fa-6324-4a97-d6a0-6c4d00405e60"
      },
      "outputs": [
        {
          "output_type": "stream",
          "name": "stdout",
          "text": [
            "20 days are 28800 minuites\n"
          ]
        }
      ],
      "source": [
        "#function without parameters\n",
        "from_days_to_mins = 24 * 60\n",
        "\n",
        "def days_to_mins():\n",
        "    print(f\"20 days are {20 * from_days_to_mins} minuites\")\n",
        "days_to_mins()"
      ]
    },
    {
      "cell_type": "code",
      "source": [
        "#funct with paramameters\n",
        "from_days_to_mins = 24 * 60\n",
        "def days_to_mins(days):\n",
        "  return f\"{days} days are {days * from_days_to_mins} minuites\"\n",
        "\n",
        "days_to_mins(30)"
      ],
      "metadata": {
        "colab": {
          "base_uri": "https://localhost:8080/",
          "height": 36
        },
        "id": "A2k4fkPC6YIT",
        "outputId": "10005310-3508-46c5-c45e-96bdd70af4d6"
      },
      "execution_count": null,
      "outputs": [
        {
          "output_type": "execute_result",
          "data": {
            "text/plain": [
              "'30 days are 43200 minuites'"
            ],
            "application/vnd.google.colaboratory.intrinsic+json": {
              "type": "string"
            }
          },
          "metadata": {},
          "execution_count": 2
        }
      ]
    },
    {
      "cell_type": "code",
      "source": [
        "#Fucnt with return values\n",
        "from_days_to_mins = 24 * 60\n",
        "\n",
        "def days_to_mins(days):\n",
        "  return f\"{days} days are {days * from_days_to_mins} minuites\"\n",
        "\n",
        "my_var= days_to_mins(15)\n",
        "print(my_var)\n",
        "\n"
      ],
      "metadata": {
        "colab": {
          "base_uri": "https://localhost:8080/"
        },
        "id": "z4nCpzos7U1K",
        "outputId": "9266192d-d52b-4d06-ab3d-dc398e43f889"
      },
      "execution_count": null,
      "outputs": [
        {
          "output_type": "stream",
          "name": "stdout",
          "text": [
            "15 days are 21600 minuites\n"
          ]
        }
      ]
    },
    {
      "cell_type": "code",
      "source": [
        "# Function taking user_input\n",
        "\n",
        "from_days_to_mins = 24 * 60\n",
        "def days_to_mins(days):\n",
        "  return f\"{days} days are {days * from_days_to_mins} minuites\"\n",
        "\n",
        "user_input = int(input(\"Enter days: \")) # u_input string by default so type cast\n",
        "x= days_to_mins(user_input)\n",
        "print(x)"
      ],
      "metadata": {
        "colab": {
          "base_uri": "https://localhost:8080/"
        },
        "id": "sQfaOeV071i5",
        "outputId": "cf8e90b2-42fc-409d-fc1a-94226aa0d87b"
      },
      "execution_count": null,
      "outputs": [
        {
          "output_type": "stream",
          "name": "stdout",
          "text": [
            "Enter days: 69\n",
            "69 days are 99360 minuites\n"
          ]
        }
      ]
    },
    {
      "cell_type": "code",
      "source": [
        "#Fucntion with conditions\n",
        "from_days_to_mins = 24 * 60\n",
        "def days_to_mins(days):\n",
        "  if days <= 0:\n",
        "    return \"Please enter something greater than 0\"\n",
        "  else:\n",
        "    return f\"{days} days are {days * from_days_to_mins} minuites\"\n",
        "\n",
        "user_input = int(input(\"Enter days: \")) # u_input string by default so type cast\n",
        "x= days_to_mins(user_input)\n",
        "print(x)"
      ],
      "metadata": {
        "colab": {
          "base_uri": "https://localhost:8080/"
        },
        "id": "zepvCRJp8hJ9",
        "outputId": "743158e6-111c-4472-aef7-3076fbbc54d2"
      },
      "execution_count": null,
      "outputs": [
        {
          "output_type": "stream",
          "name": "stdout",
          "text": [
            "Enter days: 65\n",
            "65 days are 93600 minuites\n"
          ]
        }
      ]
    },
    {
      "cell_type": "code",
      "source": [
        "#Funct. using try catch\n",
        "from_days_to_mins = 24 * 60\n",
        "def days_to_mins(days):\n",
        "  return f\"{days} days are {days * from_days_to_mins} minuites\"\n",
        "\n",
        "user_input = int(input(\"Enter days: \")) # u_input string by default so type cast\n",
        "def validate_funct():\n",
        "  try:\n",
        "    if user_input > 0:\n",
        "      x= days_to_mins(user_input)\n",
        "      print(x)\n",
        "  except:\n",
        "    print(\"Please enter a valid number\")\n",
        "\n",
        "validate_funct()\n",
        "\n",
        "##Here the funct cant catch error because , trying to catch an exception within the function itself, but the error occurs before the function is even called."
      ],
      "metadata": {
        "colab": {
          "base_uri": "https://localhost:8080/"
        },
        "id": "I_rok_0T8-Mc",
        "outputId": "699b1bd0-e2b3-4ccc-8c95-884fcbe16b6b"
      },
      "execution_count": null,
      "outputs": [
        {
          "name": "stdout",
          "output_type": "stream",
          "text": [
            "Enter days: -6\n"
          ]
        }
      ]
    },
    {
      "cell_type": "code",
      "source": [
        "#To catch the error\n",
        "from_days_to_mins = 24 * 60  # Conversion factor\n",
        "\n",
        "def days_to_mins(days):\n",
        "    \"\"\"Converts days to minutes and returns a formatted string.\"\"\"\n",
        "    return f\"{days} days are {days * from_days_to_mins} minutes\"\n",
        "\n",
        "def validate_funct():\n",
        "  try:\n",
        "    user_input = int(input(\"Enter days: \"))\n",
        "    if user_input > 0:\n",
        "      x= days_to_mins(user_input)\n",
        "      print(x)\n",
        "    elif user_input <= 0:\n",
        "      print(\"Please enter something greater than 0\")\n",
        "  except ValueError:\n",
        "    print(\"Please enter a valid number\")\n",
        "    exit() #exit gracefully\n",
        "\n",
        "\n",
        "validate_funct()\n"
      ],
      "metadata": {
        "id": "HHWn12kS-AHV"
      },
      "execution_count": null,
      "outputs": []
    },
    {
      "cell_type": "markdown",
      "source": [
        "#Write a code where program takes input from user as number of days and converts it into mins.[Take input till user types exit, take multiple inputs and convert to a list, use input validations]"
      ],
      "metadata": {
        "id": "Rmon4PN2GsjT"
      }
    },
    {
      "cell_type": "code",
      "source": [
        "#Using loops and lists in function\n",
        "from_days_to_mins = 24 * 60  # Conversion factor\n",
        "\n",
        "def days_to_mins(days):\n",
        "    \"\"\"Converts days to minutes and returns a formatted string.\"\"\"\n",
        "    return f\"{days} days are {days * from_days_to_mins} minutes\"\n",
        "\n",
        "\n",
        "\n",
        "def validate_funct():\n",
        "  try:\n",
        "    x = int(elements)\n",
        "    if x > 0:\n",
        "      my_var = days_to_mins(x)\n",
        "      print(my_var)\n",
        "    elif x <= 0:\n",
        "      print(\"Please enter something greater than 0\")\n",
        "  except ValueError:\n",
        "    print(\"Please enter a valid number\")\n",
        "    exit() #exit gracefully\n",
        "user_input = \"\"\n",
        "while user_input != \"exit\":\n",
        "  user_input = input(\"Enter days: \")\n",
        "  if user_input == \"exit\":\n",
        "    break\n",
        "  for elements in set(user_input.split(\",\")):\n",
        "    validate_funct()\n",
        "\n",
        "\n",
        "\n"
      ],
      "metadata": {
        "id": "oq2T6tSJ_xqO"
      },
      "execution_count": null,
      "outputs": []
    },
    {
      "cell_type": "code",
      "source": [
        "from_days_to_mins = 24 * 60  # Conversion factor\n",
        "\n",
        "def days_to_mins(days):\n",
        "    \"\"\"Converts days to minutes and returns a formatted string.\"\"\"\n",
        "    return f\"{days} days are {days * from_days_to_mins} minutes\"\n",
        "\n",
        "def validate_and_convert(user_input):\n",
        "    \"\"\"Validates user input, converts to integer, and returns a list of formatted conversions.\"\"\"\n",
        "    converted_values = []\n",
        "    try:\n",
        "        for element in user_input.split(','):\n",
        "            days = int(element.strip())  # Remove leading/trailing whitespace\n",
        "            if days > 0:\n",
        "                converted_values.append(days_to_mins(days))\n",
        "            else:\n",
        "                print(f\"Value '{days}' is not positive. Skipping.\")\n",
        "    except ValueError:\n",
        "        print(\"Please enter valid numbers separated by commas.\")\n",
        "    return converted_values\n",
        "\n",
        "user_inputs = []\n",
        "while True:\n",
        "    user_input = input(\"Enter days (separate multiple values with commas, or 'exit' to finish): \")\n",
        "    if user_input == \"exit\":\n",
        "        break\n",
        "\n",
        "    # Validate and convert each input value, appending valid conversions to the list\n",
        "    converted_values = validate_and_convert(user_input)\n",
        "    user_inputs.extend(converted_values)  # Efficiently extend the user_inputs list\n",
        "\n",
        "# Print all valid user inputs and their converted values\n",
        "if user_inputs:\n",
        "    print(\"\\nConverted Values:\")\n",
        "    for value in user_inputs:\n",
        "        print(value)\n",
        "else:\n",
        "    print(\"No valid inputs were entered.\")"
      ],
      "metadata": {
        "id": "XXQAjmjtEtGs"
      },
      "execution_count": null,
      "outputs": []
    },
    {
      "cell_type": "code",
      "source": [
        "def calculate_days_to_units(days, unit):\n",
        "    \"\"\"Converts days into minutes or seconds and returns a formatted string.\n",
        "\n",
        "    Args:\n",
        "        days (int): Number of days to convert.\n",
        "        unit (str): Unit to convert to (\"minutes\" or \"seconds\").\n",
        "\n",
        "    Returns:\n",
        "        str: A formatted string with the converted value and unit.\n",
        "    \"\"\"\n",
        "\n",
        "    valid_units = [\"minutes\", \"seconds\"]\n",
        "    if unit not in valid_units:\n",
        "        return \"Invalid unit. Please enter 'minutes' or 'seconds'.\"\n",
        "\n",
        "    conversion_factors = {\n",
        "        \"minutes\": 24 * 60,\n",
        "        \"seconds\": 24 * 60 * 60\n",
        "    }\n",
        "    converted_value = days * conversion_factors[unit]\n",
        "    return f\"{days} days are {converted_value} {unit}\"\n",
        "\n",
        "def validate_input():\n",
        "    \"\"\"Prompts the user for days and unit, validates input, and calls the calculation function.\"\"\"\n",
        "\n",
        "    while True:\n",
        "        user_input = input(\"Enter days and unit (e.g., 3 days in minutes): \")\n",
        "        if user_input == \"exit\":\n",
        "            break\n",
        "\n",
        "        try:\n",
        "            days_and_unit = user_input.split(\" \")\n",
        "            days = int(days_and_unit[0])\n",
        "            unit = days_and_unit[1].lower()  # Ensure unit is lowercase for case-insensitive matching\n",
        "            if days <= 0:\n",
        "                print(\"Please enter a number of days greater than 0.\")\n",
        "                continue\n",
        "            if unit not in [\"minutes\", \"seconds\"]:\n",
        "                print(\"Invalid unit. Please enter 'minutes' or 'seconds'.\")\n",
        "                continue\n",
        "\n",
        "            # Call the calculation function with validated input\n",
        "            result = calculate_days_to_units(days, unit)\n",
        "            print(result)\n",
        "            break  # Exit the loop after successful input and calculation\n",
        "        except ValueError:\n",
        "            print(\"Please enter a valid number of days.\")\n",
        "\n",
        "if __name__ == \"__main__\":\n",
        "    validate_input()"
      ],
      "metadata": {
        "colab": {
          "base_uri": "https://localhost:8080/"
        },
        "id": "Q00mJQC4Hjzf",
        "outputId": "f6ca5545-3f78-4222-d637-9a3f457235cf"
      },
      "execution_count": null,
      "outputs": [
        {
          "output_type": "stream",
          "name": "stdout",
          "text": [
            "Enter days and unit (e.g., 3 days in minutes): 21 minutes\n",
            "21 days are 30240 minutes\n"
          ]
        }
      ]
    },
    {
      "cell_type": "code",
      "source": [],
      "metadata": {
        "id": "3C3KDO-nUs2H"
      },
      "execution_count": null,
      "outputs": []
    }
  ]
}